{
 "cells": [
  {
   "cell_type": "markdown",
   "metadata": {},
   "source": [
    "# 課題\n",
    "## 選択ソート (selection sort)\n",
    "- 先頭の要素から、最後尾まで、最小の要素を探し、先頭と入れ替える\n",
    "- $n$番目以降も、同様に最後尾まで最小の要素を探し、$n$番目と入れ替える"
   ]
  },
  {
   "cell_type": "code",
   "execution_count": null,
   "metadata": {},
   "outputs": [],
   "source": [
    "import random\n",
    "from typing import Callable"
   ]
  },
  {
   "cell_type": "code",
   "execution_count": null,
   "metadata": {},
   "outputs": [],
   "source": [
    "def __findMinimum(data:list, key:Callable, start:int) -> tuple[int,int]:\n",
    "    \"\"\"\n",
    "    start以降で最小の要素の位置を返す\n",
    "    \"\"\"\n",
    "    v = data[start]\n",
    "    k = start\n",
    "    count = 0\n",
    "    for i in range(start+1, len(data)):\n",
    "        count += 1\n",
    "        if key(data[i]) < key(v):\n",
    "            k = i\n",
    "            v = data[i]\n",
    "    return k,count\n",
    "\n",
    "def selectionSort(data:list, key=lambda x:x) -> tuple[list,int]:\n",
    "    n = len(data)\n",
    "    if n == 1:\n",
    "        return data, 0\n",
    "    count = 0\n",
    "    for i in range(n-1):\n",
    "        k , c= __findMinimum(data,key,i)\n",
    "        data[k], data[i] = data[i], data[k]\n",
    "        count += c\n",
    "    return data, count\n",
    "\n",
    "    "
   ]
  },
  {
   "cell_type": "markdown",
   "metadata": {},
   "source": [
    "整列のアルゴリズムの中に選択ソート (selection sort) と呼ばれるものがある。以下の例では、要素数$n=10$の場合に、比較の回数を数えている。要素数を100、1000として、比較の回数が$O(n^)2$で増えることを確認しなさい。ただし、要素数を変化させるための`for`ループを用いること。"
   ]
  },
  {
   "cell_type": "code",
   "execution_count": null,
   "metadata": {},
   "outputs": [],
   "source": [
    "n = 10\n",
    "data: list[tuple[int, float]] = [(k, random.random()) for k in range(n)]\n",
    "data, count = selectionSort(data)\n",
    "print(f'{n}:->{count}')"
   ]
  },
  {
   "cell_type": "code",
   "execution_count": null,
   "metadata": {},
   "outputs": [],
   "source": []
  }
 ],
 "metadata": {
  "kernelspec": {
   "display_name": "Python 3",
   "language": "python",
   "name": "python3"
  },
  "language_info": {
   "codemirror_mode": {
    "name": "ipython",
    "version": 3
   },
   "file_extension": ".py",
   "mimetype": "text/x-python",
   "name": "python",
   "nbconvert_exporter": "python",
   "pygments_lexer": "ipython3",
   "version": "3.11.6"
  }
 },
 "nbformat": 4,
 "nbformat_minor": 2
}
