{
 "cells": [
  {
   "cell_type": "markdown",
   "metadata": {},
   "source": [
    "# ソート (整列、sort)"
   ]
  },
  {
   "cell_type": "code",
   "execution_count": null,
   "metadata": {},
   "outputs": [],
   "source": [
    "import random\n",
    "from typing import Callable\n",
    "import matplotlib.pyplot as plt\n",
    "import japanize_matplotlib\n",
    "plt.rcParams['mathtext.fontset']='cm'\n",
    "plt.rcParams['mathtext.default']='it'"
   ]
  },
  {
   "cell_type": "markdown",
   "metadata": {},
   "source": [
    "泡立ち法 (bubble sort)"
   ]
  },
  {
   "cell_type": "code",
   "execution_count": null,
   "metadata": {},
   "outputs": [],
   "source": [
    "def bubbleSort(data:list, key=lambda x:x) -> tuple[list,int]:\n",
    "    \"\"\"\n",
    "    泡立ち法\n",
    "\n",
    "    Parameters\n",
    "    --------\n",
    "    data: 対象となるリスト、内容が変更されることに注意\n",
    "    key: リスト要素の扱い方\n",
    "\n",
    "    Returns\n",
    "    ------\n",
    "    ソート済みリスト\n",
    "    比較回数\n",
    "    \"\"\"\n",
    "    count = 0\n",
    "    for j in range(len(data), 1, -1):\n",
    "        for i in range(j - 1):\n",
    "            k = i + 1\n",
    "            count += 1\n",
    "            if key(data[i]) > key(data[k]):\n",
    "                #i 番目とj 番目の要素を入れ替える\n",
    "                data[i], data[k] = data[k], data[i] \n",
    "    return data, count"
   ]
  },
  {
   "cell_type": "markdown",
   "metadata": {},
   "source": [
    "クイックソート (quick sort)"
   ]
  },
  {
   "cell_type": "code",
   "execution_count": null,
   "metadata": {},
   "outputs": [],
   "source": [
    "def quickSort(data:list, key=lambda x:x) -> tuple[list,int]:\n",
    "    \"\"\"\n",
    "    クイックソート\n",
    "\n",
    "    Parameters\n",
    "    --------\n",
    "    data: 対象となるリスト、内容が変更されることに注意\n",
    "    key: リスト要素の扱い方\n",
    "\n",
    "    Returns\n",
    "    ------\n",
    "    ソート済みリスト\n",
    "    比較回数\n",
    "    \"\"\"\n",
    "    if len(data) < 2:\n",
    "        return data, 0\n",
    "    # pivotを選ぶ\n",
    "    k:int = random.randint(0, len(data) - 1)\n",
    "    p = data[k]\n",
    "\n",
    "    left = list()# p より小さいの要素\n",
    "    pivots = list()#Pと同じ大きさの要素\n",
    "    right = list()# p より大きい要素\n",
    "    count = 0\n",
    "    for v in data:\n",
    "        count += 1\n",
    "        if key(v) < key(p):\n",
    "            left.append(v)\n",
    "        elif key(v) == key(p):\n",
    "            pivots.append(v)\n",
    "        else:\n",
    "            right.append(v)\n",
    "    #再帰的にソートし、ソート済みのリストを連結して返す\n",
    "    left, lc = quickSort(left, key)\n",
    "    right, rc = quickSort(right, key)\n",
    "    return left + pivots+right, lc + count + rc\n"
   ]
  },
  {
   "cell_type": "markdown",
   "metadata": {},
   "source": [
    "マージソート(merge sort)"
   ]
  },
  {
   "cell_type": "code",
   "execution_count": null,
   "metadata": {},
   "outputs": [],
   "source": [
    "def merge(left:list, right:list, key:Callable) -> tuple[list,int]:\n",
    "    \"\"\"\n",
    "    整列済みの二つのリストをマージする\n",
    "    \"\"\"\n",
    "    output = list()\n",
    "    count = 0\n",
    "    while len(left) > 0 and len(right) > 0:#左右のリストが残っている\n",
    "        count += 1\n",
    "        if key(left[0]) <= key(right[0]):#先頭を比較\n",
    "            output.append(left.pop(0))\n",
    "        else:\n",
    "            output.append(right.pop(0))\n",
    "    if len(left) > 0:#左のみ\n",
    "        output += left\n",
    "    else:#右のみ\n",
    "        output += right\n",
    "    return output, count\n",
    "\n",
    "def mergeSort(data:list, key=lambda x:x) -> tuple[list,int]:\n",
    "    \"\"\"\n",
    "    マージソート\n",
    "    \n",
    "    Parameters\n",
    "    --------\n",
    "    data: 対象となるリスト、内容が変更されることに注意\n",
    "    key: リスト要素の扱い方\n",
    "\n",
    "    Returns\n",
    "    ------\n",
    "    ソート済みリスト\n",
    "    比較回数\n",
    "    \"\"\"\n",
    "    n = len(data)\n",
    "    if n == 1:\n",
    "        return data, 0\n",
    "    #リストを二つに分けて、それぞれをソート\n",
    "    m = n // 2\n",
    "    left, lc = mergeSort(data[:m], key)\n",
    "    right, rc = mergeSort(data[m:], key)\n",
    "    output, count = merge(left, right, key)\n",
    "    return output, count + lc + rc"
   ]
  },
  {
   "cell_type": "code",
   "execution_count": null,
   "metadata": {},
   "outputs": [],
   "source": [
    "def countComparison(m:int, filename='countSummary.pdf')->None:\n",
    "    \"\"\"\n",
    "    泡立ち法とクイックソートにおいて、データ数に対する比較の回数を計測する\n",
    "\n",
    "    parameters\n",
    "    ------\n",
    "    m データ点の数、要素数は128から128*2^{m-1}まで2倍ずつ増える\n",
    "    \"\"\"\n",
    "    nList:list[int] = list()\n",
    "    bubbleCount:list[int] = list()\n",
    "    quickCount:list[int] = list()\n",
    "    n = 128\n",
    "    for _ in range(m):\n",
    "        data = [(k, random.random()) for k in range(n)]\n",
    "        _, bc = bubbleSort(data, key=lambda x:x[1])\n",
    "        _, qc = quickSort(data, key=lambda x:x[1])\n",
    "        nList.append(n)\n",
    "        bubbleCount.append(bc)\n",
    "        quickCount.append(qc)\n",
    "        n *= 2    \n",
    "    #作図の開始\n",
    "    fig, ax = plt.subplots()\n",
    "    ax.set_xscale('log')\n",
    "    ax.set_yscale('log')\n",
    "    ax.set_xlabel('$n$', fontsize=20)\n",
    "    ax.set_ylabel('# of comparisons', fontsize=20)\n",
    "    ax.scatter(nList, bubbleCount, label='bubble')\n",
    "    ax.scatter(nList, quickCount, label='quick')\n",
    "    ax.legend()\n",
    "    plt.savefig(filename)"
   ]
  },
  {
   "cell_type": "code",
   "execution_count": null,
   "metadata": {},
   "outputs": [],
   "source": [
    "n = 20\n",
    "data = [(k, random.random()) for k in range(n)]\n",
    "# data,_ = bubbleSort(data, key = lambda x:x[1])\n",
    "# data,_ = mergeSort(data, key = lambda x:x[1])\n",
    "data, _ = quickSort(data, key = lambda x:x[1]**2)\n",
    "for i, v in enumerate(data):\n",
    "    print(f'{i}->{v}')\n"
   ]
  },
  {
   "cell_type": "code",
   "execution_count": null,
   "metadata": {},
   "outputs": [],
   "source": [
    "countComparison(8)\n"
   ]
  }
 ],
 "metadata": {
  "kernelspec": {
   "display_name": "myenv",
   "language": "python",
   "name": "python3"
  },
  "language_info": {
   "codemirror_mode": {
    "name": "ipython",
    "version": 3
   },
   "file_extension": ".py",
   "mimetype": "text/x-python",
   "name": "python",
   "nbconvert_exporter": "python",
   "pygments_lexer": "ipython3",
   "version": "3.11.6"
  }
 },
 "nbformat": 4,
 "nbformat_minor": 2
}
