{
 "cells": [
  {
   "cell_type": "markdown",
   "metadata": {},
   "source": [
    "# ソート (整列、sort)"
   ]
  },
  {
   "cell_type": "code",
   "execution_count": 16,
   "metadata": {},
   "outputs": [],
   "source": [
    "import random\n",
    "from typing import Callable, Any\n",
    "import matplotlib.pyplot as plt\n",
    "import japanize_matplotlib\n",
    "plt.rcParams['mathtext.fontset']='cm'\n",
    "plt.rcParams['mathtext.default']='it'"
   ]
  },
  {
   "cell_type": "markdown",
   "metadata": {},
   "source": [
    "泡立ち法 (bubble sort)"
   ]
  },
  {
   "cell_type": "code",
   "execution_count": 17,
   "metadata": {},
   "outputs": [],
   "source": [
    "def bubbleSort(data:list[Any], key:Callable=lambda x:x) -> tuple[list,int]:\n",
    "    \"\"\"\n",
    "    泡立ち法\n",
    "\n",
    "    Parameters\n",
    "    --------\n",
    "    data: 対象となるリスト、内容が変更されることに注意\n",
    "    key: リスト要素の扱い方\n",
    "\n",
    "    Returns\n",
    "    ------\n",
    "    ソート済みリスト\n",
    "    比較回数\n",
    "    \"\"\"\n",
    "    count:int = 0\n",
    "    for j in range(len(data), 1, -1):\n",
    "        for i in range(j - 1):\n",
    "            k = i + 1\n",
    "            count += 1\n",
    "            if key(data[i]) > key(data[k]):\n",
    "                #i 番目とj 番目の要素を入れ替える\n",
    "                data[i], data[k] = data[k], data[i] \n",
    "    return data, count"
   ]
  },
  {
   "cell_type": "markdown",
   "metadata": {},
   "source": [
    "選択ソート (selection sort)"
   ]
  },
  {
   "cell_type": "code",
   "execution_count": 18,
   "metadata": {},
   "outputs": [],
   "source": [
    "def selectionSort(data:list[Any], key=lambda x:x):\n",
    "    \"\"\"\n",
    "    選択ソート\n",
    "\n",
    "    Parameters\n",
    "    --------\n",
    "    data: 対象となるリスト、内容が変更されることに注意\n",
    "    key: リスト要素の扱い方\n",
    "\n",
    "    Returns\n",
    "    ------\n",
    "    ソート済みリスト\n",
    "    比較回数\n",
    "    \"\"\"\n",
    "    count = 0\n",
    "    for k in range(len(data)-1):\n",
    "        a = data[k]\n",
    "        kk = k\n",
    "        for j in range(k,len(data)):\n",
    "            if key(data[j]) < key(data[kk]):\n",
    "                count += 1\n",
    "                kk = j\n",
    "        if kk != k:\n",
    "            data[k], data[kk] = data[kk], data[k]\n",
    "    return data, count"
   ]
  },
  {
   "cell_type": "markdown",
   "metadata": {},
   "source": [
    "クイックソート (quick sort)"
   ]
  },
  {
   "cell_type": "code",
   "execution_count": 19,
   "metadata": {},
   "outputs": [],
   "source": [
    "def quickSort(data:list[Any], key:Callable=lambda x:x) -> tuple[list,int]:\n",
    "    \"\"\"\n",
    "    クイックソート\n",
    "\n",
    "    Parameters\n",
    "    --------\n",
    "    data: 対象となるリスト、内容が変更されることに注意\n",
    "    key: リスト要素の扱い方\n",
    "\n",
    "    Returns\n",
    "    ------\n",
    "    ソート済みリスト\n",
    "    比較回数\n",
    "    \"\"\"\n",
    "    if len(data) < 2:\n",
    "        return data, 0\n",
    "    # pivotを選ぶ\n",
    "    k:int = random.randint(0, len(data) - 1)\n",
    "    p = data[k]\n",
    "\n",
    "    left:list[Any] = list()# p より小さいの要素\n",
    "    pivots:list[Any] = list()#Pと同じ大きさの要素\n",
    "    right:list[Any] = list()# p より大きい要素\n",
    "    count:int = 0\n",
    "    for v in data:\n",
    "        count += 1\n",
    "        if key(v) < key(p):\n",
    "            left.append(v)\n",
    "        elif key(v) == key(p):\n",
    "            pivots.append(v)\n",
    "        else:\n",
    "            right.append(v)\n",
    "    #再帰的にソートし、ソート済みのリストを連結して返す\n",
    "    left, lc = quickSort(left, key)\n",
    "    right, rc = quickSort(right, key)\n",
    "    return left + pivots+right, lc + count + rc\n"
   ]
  },
  {
   "cell_type": "markdown",
   "metadata": {},
   "source": [
    "マージソート(merge sort)"
   ]
  },
  {
   "cell_type": "code",
   "execution_count": 20,
   "metadata": {},
   "outputs": [],
   "source": [
    "def __merge(left:list[Any], right:list[Any], key:Callable) -> tuple[list[Any],int]:\n",
    "    \"\"\"\n",
    "    整列済みの二つのリストをマージする\n",
    "    \"\"\"\n",
    "    output = list()\n",
    "    count = 0\n",
    "    while len(left) > 0 and len(right) > 0:#左右のリストが残っている\n",
    "        count += 1\n",
    "        if key(left[0]) <= key(right[0]):#先頭を比較\n",
    "            output.append(left.pop(0))\n",
    "        else:\n",
    "            output.append(right.pop(0))\n",
    "    if len(left) > 0:#左のみ\n",
    "        output += left\n",
    "    else:#右のみ\n",
    "        output += right\n",
    "    return output, count\n",
    "\n",
    "def mergeSort(data:list[Any], key:Callable=lambda x:x) -> tuple[list[Any],int]:\n",
    "    \"\"\"\n",
    "    マージソート\n",
    "    \n",
    "    Parameters\n",
    "    --------\n",
    "    data: 対象となるリスト、内容が変更されることに注意\n",
    "    key: リスト要素の扱い方\n",
    "\n",
    "    Returns\n",
    "    ------\n",
    "    ソート済みリスト\n",
    "    比較回数\n",
    "    \"\"\"\n",
    "    n = len(data)\n",
    "    if n == 1:\n",
    "        return data, 0\n",
    "    #リストを二つに分けて、それぞれをソート\n",
    "    m = n // 2\n",
    "    left, lc = mergeSort(data[:m], key)\n",
    "    right, rc = mergeSort(data[m:], key)\n",
    "    output, count = __merge(left, right, key)\n",
    "    return output, count + lc + rc"
   ]
  },
  {
   "cell_type": "code",
   "execution_count": 21,
   "metadata": {},
   "outputs": [],
   "source": [
<<<<<<< HEAD
    "def countComparison(m:int, filename:str='countSummary.pdf')->None:\n",
=======
    "def countComparison(m:int, methods:list[str], filename='countSummary.pdf')->None:\n",
>>>>>>> 753a3311d64e663f921b8ae13c08710dd76b2fc2
    "    \"\"\"\n",
    "    ソート方法毎に、データ数に対する比較の回数を計測する\n",
    "\n",
    "    parameters\n",
    "    ------\n",
    "    methods: ソート方法のリスト\n",
    "    m データ点の数、要素数は128から128*2^{m-1}まで2倍ずつ増える\n",
    "    \"\"\"\n",
    "    nList:list[int] = list()\n",
    "    results:dict[str, list[int]] = {method: list() for method in methods}\n",
    "    n = 128\n",
    "    for _ in range(m):\n",
    "        data: list[tuple[int, float]] = [(k, random.random()) for k in range(n)]\n",
    "        nList.append(n)\n",
    "        for method in methods:\n",
    "            _, count = eval(method)(data, key=lambda x:x[1])\n",
    "            results[method].append(count)\n",
    "        n *= 2    \n",
    "    #作図の開始\n",
    "    fig, ax = plt.subplots()\n",
    "    ax.set_xscale('log')\n",
    "    ax.set_yscale('log')\n",
    "    ax.set_xlabel('$n$', fontsize=20)\n",
    "    ax.set_ylabel('# of comparisons', fontsize=20)\n",
    "    for method in methods:\n",
    "        ax.scatter(nList, results[method], label=method)\n",
    "    ax.legend()\n",
    "    plt.savefig(filename)"
   ]
  },
  {
   "cell_type": "code",
   "execution_count": 22,
   "metadata": {},
   "outputs": [
    {
     "name": "stdout",
     "output_type": "stream",
     "text": [
      "0->(17, 0.11094137990163044)\n",
      "1->(4, 0.14804779362966702)\n",
      "2->(3, 0.15647547329128042)\n",
      "3->(0, 0.18117008509188226)\n",
      "4->(14, 0.22792869277679007)\n",
      "5->(10, 0.3001565676056137)\n",
      "6->(11, 0.3027871780333907)\n",
      "7->(15, 0.3484538683559777)\n",
      "8->(8, 0.3885801804798704)\n",
      "9->(7, 0.42667415786518625)\n",
      "10->(5, 0.5418855656402461)\n",
      "11->(19, 0.5612629613440434)\n",
      "12->(16, 0.6756562201965783)\n",
      "13->(13, 0.7480813955516884)\n",
      "14->(1, 0.7640778307549589)\n",
      "15->(6, 0.7770093588742554)\n",
      "16->(12, 0.8164993990424371)\n",
      "17->(2, 0.8301072368212796)\n",
      "18->(9, 0.8939168430320772)\n",
      "19->(18, 0.9842821057072438)\n"
     ]
    }
   ],
   "source": [
    "n = 20\n",
    "data: list[tuple[int, float]] = [(k, random.random()) for k in range(n)]\n",
    "# data,_ = bubbleSort(data, key = lambda x:x[1])\n",
    "# data,_ = mergeSort(data, key = lambda x:x[1])\n",
    "# data, _ = quickSort(data, key = lambda x:x[1]**2)\n",
    "data,_ = selectionSort(data, key = lambda x:x[1])\n",
    "for i, v in enumerate(data):\n",
    "    print(f'{i}->{v}')\n"
   ]
  },
  {
   "cell_type": "code",
   "execution_count": 23,
   "metadata": {},
   "outputs": [
    {
     "data": {
      "image/png": "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",
      "text/plain": [
       "<Figure size 640x480 with 1 Axes>"
      ]
     },
     "metadata": {},
     "output_type": "display_data"
    }
   ],
   "source": [
    "countComparison(8, ['bubbleSort', 'selectionSort', 'quickSort', 'mergeSort'], 'countSummary.pdf')\n"
   ]
  }
 ],
 "metadata": {
  "kernelspec": {
   "display_name": "myenv",
   "language": "python",
   "name": "python3"
  },
  "language_info": {
   "codemirror_mode": {
    "name": "ipython",
    "version": 3
   },
   "file_extension": ".py",
   "mimetype": "text/x-python",
   "name": "python",
   "nbconvert_exporter": "python",
   "pygments_lexer": "ipython3",
   "version": "3.12.2"
  }
 },
 "nbformat": 4,
 "nbformat_minor": 2
}
